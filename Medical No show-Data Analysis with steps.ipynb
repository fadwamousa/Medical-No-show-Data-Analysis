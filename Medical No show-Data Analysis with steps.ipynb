{
 "cells": [
  {
   "cell_type": "markdown",
   "id": "5bf1f3ad",
   "metadata": {},
   "source": [
    "## introduction"
   ]
  },
  {
   "cell_type": "markdown",
   "id": "e34f51a9",
   "metadata": {},
   "source": [
    "Medical Appointment No Shows\n",
    "Why do 30% of patients miss their scheduled appointments?"
   ]
  },
  {
   "cell_type": "markdown",
   "id": "fe5d7368",
   "metadata": {},
   "source": [
    "### Questions to Ask:"
   ]
  },
  {
   "cell_type": "markdown",
   "id": "92fff9c4",
   "metadata": {},
   "source": [
    "- What is the percentage of patients who show up on their appointements vs. who don't?"
   ]
  },
  {
   "cell_type": "markdown",
   "id": "c0a56a88",
   "metadata": {},
   "source": [
    "- Do certain gender has more commitment to medical schedules than the other one?"
   ]
  },
  {
   "cell_type": "markdown",
   "id": "5768ae7f",
   "metadata": {},
   "source": [
    "- Is the duration between regestiration and appointment affect the ability to show up ?"
   ]
  },
  {
   "cell_type": "markdown",
   "id": "f99ceb33",
   "metadata": {},
   "source": [
    "- Do patients who recieves SMS to remind them of the appointement more likely to show up?"
   ]
  },
  {
   "cell_type": "markdown",
   "id": "17ca1726",
   "metadata": {},
   "source": [
    "- What is percentage of patients who diagnosed with Diabetes, Hipertension, Alcoholism, and Handcap ?"
   ]
  },
  {
   "cell_type": "markdown",
   "id": "20ae3038",
   "metadata": {},
   "source": [
    "- Is alcohol drinking may be a cause of missing out the appointements?"
   ]
  },
  {
   "cell_type": "code",
   "execution_count": 1,
   "id": "8791191d",
   "metadata": {},
   "outputs": [],
   "source": [
    "# import importnat library for analyzie\n",
    "import pandas as pd\n",
    "import numpy  as  np\n",
    "import matplotlib.pyplot as plt\n",
    "import seaborn as sns\n",
    "%matplotlib inline"
   ]
  },
  {
   "cell_type": "markdown",
   "id": "60c9ee13",
   "metadata": {},
   "source": [
    "### Data Wrangling"
   ]
  },
  {
   "cell_type": "markdown",
   "id": "99d6ad37",
   "metadata": {},
   "source": [
    "#### General Properties\n",
    "- Assesing"
   ]
  },
  {
   "cell_type": "code",
   "execution_count": 2,
   "id": "93c5e780",
   "metadata": {},
   "outputs": [
    {
     "data": {
      "text/html": [
       "<div>\n",
       "<style scoped>\n",
       "    .dataframe tbody tr th:only-of-type {\n",
       "        vertical-align: middle;\n",
       "    }\n",
       "\n",
       "    .dataframe tbody tr th {\n",
       "        vertical-align: top;\n",
       "    }\n",
       "\n",
       "    .dataframe thead th {\n",
       "        text-align: right;\n",
       "    }\n",
       "</style>\n",
       "<table border=\"1\" class=\"dataframe\">\n",
       "  <thead>\n",
       "    <tr style=\"text-align: right;\">\n",
       "      <th></th>\n",
       "      <th>PatientId</th>\n",
       "      <th>AppointmentID</th>\n",
       "      <th>Gender</th>\n",
       "      <th>ScheduledDay</th>\n",
       "      <th>AppointmentDay</th>\n",
       "      <th>Age</th>\n",
       "      <th>Neighbourhood</th>\n",
       "      <th>Scholarship</th>\n",
       "      <th>Hipertension</th>\n",
       "      <th>Diabetes</th>\n",
       "      <th>Alcoholism</th>\n",
       "      <th>Handcap</th>\n",
       "      <th>SMS_received</th>\n",
       "      <th>No-show</th>\n",
       "    </tr>\n",
       "  </thead>\n",
       "  <tbody>\n",
       "    <tr>\n",
       "      <th>0</th>\n",
       "      <td>2.987250e+13</td>\n",
       "      <td>5642903</td>\n",
       "      <td>F</td>\n",
       "      <td>2016-04-29T18:38:08Z</td>\n",
       "      <td>2016-04-29T00:00:00Z</td>\n",
       "      <td>62</td>\n",
       "      <td>JARDIM DA PENHA</td>\n",
       "      <td>0</td>\n",
       "      <td>1</td>\n",
       "      <td>0</td>\n",
       "      <td>0</td>\n",
       "      <td>0</td>\n",
       "      <td>0</td>\n",
       "      <td>No</td>\n",
       "    </tr>\n",
       "    <tr>\n",
       "      <th>1</th>\n",
       "      <td>5.589978e+14</td>\n",
       "      <td>5642503</td>\n",
       "      <td>M</td>\n",
       "      <td>2016-04-29T16:08:27Z</td>\n",
       "      <td>2016-04-29T00:00:00Z</td>\n",
       "      <td>56</td>\n",
       "      <td>JARDIM DA PENHA</td>\n",
       "      <td>0</td>\n",
       "      <td>0</td>\n",
       "      <td>0</td>\n",
       "      <td>0</td>\n",
       "      <td>0</td>\n",
       "      <td>0</td>\n",
       "      <td>No</td>\n",
       "    </tr>\n",
       "    <tr>\n",
       "      <th>2</th>\n",
       "      <td>4.262962e+12</td>\n",
       "      <td>5642549</td>\n",
       "      <td>F</td>\n",
       "      <td>2016-04-29T16:19:04Z</td>\n",
       "      <td>2016-04-29T00:00:00Z</td>\n",
       "      <td>62</td>\n",
       "      <td>MATA DA PRAIA</td>\n",
       "      <td>0</td>\n",
       "      <td>0</td>\n",
       "      <td>0</td>\n",
       "      <td>0</td>\n",
       "      <td>0</td>\n",
       "      <td>0</td>\n",
       "      <td>No</td>\n",
       "    </tr>\n",
       "    <tr>\n",
       "      <th>3</th>\n",
       "      <td>8.679512e+11</td>\n",
       "      <td>5642828</td>\n",
       "      <td>F</td>\n",
       "      <td>2016-04-29T17:29:31Z</td>\n",
       "      <td>2016-04-29T00:00:00Z</td>\n",
       "      <td>8</td>\n",
       "      <td>PONTAL DE CAMBURI</td>\n",
       "      <td>0</td>\n",
       "      <td>0</td>\n",
       "      <td>0</td>\n",
       "      <td>0</td>\n",
       "      <td>0</td>\n",
       "      <td>0</td>\n",
       "      <td>No</td>\n",
       "    </tr>\n",
       "    <tr>\n",
       "      <th>4</th>\n",
       "      <td>8.841186e+12</td>\n",
       "      <td>5642494</td>\n",
       "      <td>F</td>\n",
       "      <td>2016-04-29T16:07:23Z</td>\n",
       "      <td>2016-04-29T00:00:00Z</td>\n",
       "      <td>56</td>\n",
       "      <td>JARDIM DA PENHA</td>\n",
       "      <td>0</td>\n",
       "      <td>1</td>\n",
       "      <td>1</td>\n",
       "      <td>0</td>\n",
       "      <td>0</td>\n",
       "      <td>0</td>\n",
       "      <td>No</td>\n",
       "    </tr>\n",
       "  </tbody>\n",
       "</table>\n",
       "</div>"
      ],
      "text/plain": [
       "      PatientId  AppointmentID Gender          ScheduledDay  \\\n",
       "0  2.987250e+13        5642903      F  2016-04-29T18:38:08Z   \n",
       "1  5.589978e+14        5642503      M  2016-04-29T16:08:27Z   \n",
       "2  4.262962e+12        5642549      F  2016-04-29T16:19:04Z   \n",
       "3  8.679512e+11        5642828      F  2016-04-29T17:29:31Z   \n",
       "4  8.841186e+12        5642494      F  2016-04-29T16:07:23Z   \n",
       "\n",
       "         AppointmentDay  Age      Neighbourhood  Scholarship  Hipertension  \\\n",
       "0  2016-04-29T00:00:00Z   62    JARDIM DA PENHA            0             1   \n",
       "1  2016-04-29T00:00:00Z   56    JARDIM DA PENHA            0             0   \n",
       "2  2016-04-29T00:00:00Z   62      MATA DA PRAIA            0             0   \n",
       "3  2016-04-29T00:00:00Z    8  PONTAL DE CAMBURI            0             0   \n",
       "4  2016-04-29T00:00:00Z   56    JARDIM DA PENHA            0             1   \n",
       "\n",
       "   Diabetes  Alcoholism  Handcap  SMS_received No-show  \n",
       "0         0           0        0             0      No  \n",
       "1         0           0        0             0      No  \n",
       "2         0           0        0             0      No  \n",
       "3         0           0        0             0      No  \n",
       "4         1           0        0             0      No  "
      ]
     },
     "execution_count": 2,
     "metadata": {},
     "output_type": "execute_result"
    }
   ],
   "source": [
    "df = pd.read_csv('noshowappointments-kagglev2-may-2016.csv')\n",
    "df.head()"
   ]
  },
  {
   "cell_type": "code",
   "execution_count": 3,
   "id": "90a6380b",
   "metadata": {},
   "outputs": [
    {
     "data": {
      "text/plain": [
       "110527"
      ]
     },
     "execution_count": 3,
     "metadata": {},
     "output_type": "execute_result"
    }
   ],
   "source": [
    "df.shape[0] #number of smaples"
   ]
  },
  {
   "cell_type": "code",
   "execution_count": 4,
   "id": "7c5c5102",
   "metadata": {
    "scrolled": true
   },
   "outputs": [
    {
     "name": "stdout",
     "output_type": "stream",
     "text": [
      "<class 'pandas.core.frame.DataFrame'>\n",
      "RangeIndex: 110527 entries, 0 to 110526\n",
      "Data columns (total 14 columns):\n",
      " #   Column          Non-Null Count   Dtype  \n",
      "---  ------          --------------   -----  \n",
      " 0   PatientId       110527 non-null  float64\n",
      " 1   AppointmentID   110527 non-null  int64  \n",
      " 2   Gender          110527 non-null  object \n",
      " 3   ScheduledDay    110527 non-null  object \n",
      " 4   AppointmentDay  110527 non-null  object \n",
      " 5   Age             110527 non-null  int64  \n",
      " 6   Neighbourhood   110527 non-null  object \n",
      " 7   Scholarship     110527 non-null  int64  \n",
      " 8   Hipertension    110527 non-null  int64  \n",
      " 9   Diabetes        110527 non-null  int64  \n",
      " 10  Alcoholism      110527 non-null  int64  \n",
      " 11  Handcap         110527 non-null  int64  \n",
      " 12  SMS_received    110527 non-null  int64  \n",
      " 13  No-show         110527 non-null  object \n",
      "dtypes: float64(1), int64(8), object(5)\n",
      "memory usage: 11.8+ MB\n"
     ]
    }
   ],
   "source": [
    "df.info()"
   ]
  },
  {
   "cell_type": "markdown",
   "id": "449237d2",
   "metadata": {},
   "source": [
    "- we have a dataset with 110527 entries and 14 varaibles \n",
    "- we don't have any null in dataset\n",
    "- PatientId should convert form Float into Int datatype\n",
    "- AppointmentDay & ScheduledDay"
   ]
  },
  {
   "cell_type": "markdown",
   "id": "6c12e683",
   "metadata": {},
   "source": [
    "#### Missing "
   ]
  },
  {
   "cell_type": "code",
   "execution_count": 5,
   "id": "1d169a8c",
   "metadata": {},
   "outputs": [
    {
     "data": {
      "text/plain": [
       "PatientId         0\n",
       "AppointmentID     0\n",
       "Gender            0\n",
       "ScheduledDay      0\n",
       "AppointmentDay    0\n",
       "Age               0\n",
       "Neighbourhood     0\n",
       "Scholarship       0\n",
       "Hipertension      0\n",
       "Diabetes          0\n",
       "Alcoholism        0\n",
       "Handcap           0\n",
       "SMS_received      0\n",
       "No-show           0\n",
       "dtype: int64"
      ]
     },
     "execution_count": 5,
     "metadata": {},
     "output_type": "execute_result"
    }
   ],
   "source": [
    "df.isnull().sum()"
   ]
  },
  {
   "cell_type": "markdown",
   "id": "8a880c7e",
   "metadata": {},
   "source": [
    "#### Duplicates "
   ]
  },
  {
   "cell_type": "code",
   "execution_count": 8,
   "id": "1020612e",
   "metadata": {
    "scrolled": true
   },
   "outputs": [
    {
     "data": {
      "text/plain": [
       "0"
      ]
     },
     "execution_count": 8,
     "metadata": {},
     "output_type": "execute_result"
    }
   ],
   "source": [
    "sum(df.duplicated())"
   ]
  },
  {
   "cell_type": "code",
   "execution_count": 13,
   "id": "fb9b5786",
   "metadata": {
    "scrolled": true
   },
   "outputs": [
    {
     "data": {
      "text/html": [
       "<div>\n",
       "<style scoped>\n",
       "    .dataframe tbody tr th:only-of-type {\n",
       "        vertical-align: middle;\n",
       "    }\n",
       "\n",
       "    .dataframe tbody tr th {\n",
       "        vertical-align: top;\n",
       "    }\n",
       "\n",
       "    .dataframe thead th {\n",
       "        text-align: right;\n",
       "    }\n",
       "</style>\n",
       "<table border=\"1\" class=\"dataframe\">\n",
       "  <thead>\n",
       "    <tr style=\"text-align: right;\">\n",
       "      <th></th>\n",
       "      <th>PatientId</th>\n",
       "      <th>AppointmentID</th>\n",
       "      <th>Gender</th>\n",
       "      <th>ScheduledDay</th>\n",
       "      <th>AppointmentDay</th>\n",
       "      <th>Age</th>\n",
       "      <th>Neighbourhood</th>\n",
       "      <th>Scholarship</th>\n",
       "      <th>Hipertension</th>\n",
       "      <th>Diabetes</th>\n",
       "      <th>Alcoholism</th>\n",
       "      <th>Handcap</th>\n",
       "      <th>SMS_received</th>\n",
       "      <th>No-show</th>\n",
       "    </tr>\n",
       "  </thead>\n",
       "  <tbody>\n",
       "    <tr>\n",
       "      <th>16129</th>\n",
       "      <td>4.123936e+10</td>\n",
       "      <td>5613161</td>\n",
       "      <td>M</td>\n",
       "      <td>2016-04-25T09:05:05Z</td>\n",
       "      <td>2016-05-10T00:00:00Z</td>\n",
       "      <td>25</td>\n",
       "      <td>PRAIA DO SUÁ</td>\n",
       "      <td>0</td>\n",
       "      <td>0</td>\n",
       "      <td>0</td>\n",
       "      <td>0</td>\n",
       "      <td>0</td>\n",
       "      <td>1</td>\n",
       "      <td>Yes</td>\n",
       "    </tr>\n",
       "    <tr>\n",
       "      <th>22608</th>\n",
       "      <td>1.645314e+11</td>\n",
       "      <td>5660999</td>\n",
       "      <td>F</td>\n",
       "      <td>2016-05-05T07:07:38Z</td>\n",
       "      <td>2016-05-16T00:00:00Z</td>\n",
       "      <td>59</td>\n",
       "      <td>CONSOLAÇÃO</td>\n",
       "      <td>0</td>\n",
       "      <td>0</td>\n",
       "      <td>0</td>\n",
       "      <td>0</td>\n",
       "      <td>0</td>\n",
       "      <td>0</td>\n",
       "      <td>No</td>\n",
       "    </tr>\n",
       "    <tr>\n",
       "      <th>86012</th>\n",
       "      <td>9.217122e+12</td>\n",
       "      <td>5549320</td>\n",
       "      <td>F</td>\n",
       "      <td>2016-04-06T09:44:32Z</td>\n",
       "      <td>2016-06-03T00:00:00Z</td>\n",
       "      <td>1</td>\n",
       "      <td>JARDIM CAMBURI</td>\n",
       "      <td>0</td>\n",
       "      <td>0</td>\n",
       "      <td>0</td>\n",
       "      <td>0</td>\n",
       "      <td>0</td>\n",
       "      <td>1</td>\n",
       "      <td>No</td>\n",
       "    </tr>\n",
       "    <tr>\n",
       "      <th>93793</th>\n",
       "      <td>5.643396e+13</td>\n",
       "      <td>5609524</td>\n",
       "      <td>M</td>\n",
       "      <td>2016-04-20T16:04:44Z</td>\n",
       "      <td>2016-06-01T00:00:00Z</td>\n",
       "      <td>47</td>\n",
       "      <td>MARUÍPE</td>\n",
       "      <td>0</td>\n",
       "      <td>0</td>\n",
       "      <td>0</td>\n",
       "      <td>0</td>\n",
       "      <td>0</td>\n",
       "      <td>1</td>\n",
       "      <td>No</td>\n",
       "    </tr>\n",
       "    <tr>\n",
       "      <th>23380</th>\n",
       "      <td>2.883386e+12</td>\n",
       "      <td>5694389</td>\n",
       "      <td>F</td>\n",
       "      <td>2016-05-13T08:36:15Z</td>\n",
       "      <td>2016-05-13T00:00:00Z</td>\n",
       "      <td>76</td>\n",
       "      <td>CONSOLAÇÃO</td>\n",
       "      <td>0</td>\n",
       "      <td>1</td>\n",
       "      <td>0</td>\n",
       "      <td>0</td>\n",
       "      <td>0</td>\n",
       "      <td>0</td>\n",
       "      <td>No</td>\n",
       "    </tr>\n",
       "    <tr>\n",
       "      <th>70970</th>\n",
       "      <td>6.473953e+12</td>\n",
       "      <td>5465626</td>\n",
       "      <td>F</td>\n",
       "      <td>2016-03-14T14:29:27Z</td>\n",
       "      <td>2016-05-30T00:00:00Z</td>\n",
       "      <td>42</td>\n",
       "      <td>SÃO PEDRO</td>\n",
       "      <td>1</td>\n",
       "      <td>0</td>\n",
       "      <td>0</td>\n",
       "      <td>0</td>\n",
       "      <td>0</td>\n",
       "      <td>1</td>\n",
       "      <td>No</td>\n",
       "    </tr>\n",
       "    <tr>\n",
       "      <th>67521</th>\n",
       "      <td>2.719317e+13</td>\n",
       "      <td>5677557</td>\n",
       "      <td>M</td>\n",
       "      <td>2016-05-10T07:22:07Z</td>\n",
       "      <td>2016-05-10T00:00:00Z</td>\n",
       "      <td>7</td>\n",
       "      <td>SANTA MARTHA</td>\n",
       "      <td>0</td>\n",
       "      <td>0</td>\n",
       "      <td>0</td>\n",
       "      <td>0</td>\n",
       "      <td>0</td>\n",
       "      <td>0</td>\n",
       "      <td>No</td>\n",
       "    </tr>\n",
       "    <tr>\n",
       "      <th>35762</th>\n",
       "      <td>5.769652e+12</td>\n",
       "      <td>5620433</td>\n",
       "      <td>F</td>\n",
       "      <td>2016-04-26T09:02:26Z</td>\n",
       "      <td>2016-05-04T00:00:00Z</td>\n",
       "      <td>53</td>\n",
       "      <td>DA PENHA</td>\n",
       "      <td>0</td>\n",
       "      <td>1</td>\n",
       "      <td>1</td>\n",
       "      <td>0</td>\n",
       "      <td>0</td>\n",
       "      <td>1</td>\n",
       "      <td>No</td>\n",
       "    </tr>\n",
       "    <tr>\n",
       "      <th>63847</th>\n",
       "      <td>2.515116e+12</td>\n",
       "      <td>5670382</td>\n",
       "      <td>M</td>\n",
       "      <td>2016-05-06T13:42:25Z</td>\n",
       "      <td>2016-05-09T00:00:00Z</td>\n",
       "      <td>10</td>\n",
       "      <td>CONSOLAÇÃO</td>\n",
       "      <td>0</td>\n",
       "      <td>0</td>\n",
       "      <td>0</td>\n",
       "      <td>0</td>\n",
       "      <td>0</td>\n",
       "      <td>0</td>\n",
       "      <td>No</td>\n",
       "    </tr>\n",
       "    <tr>\n",
       "      <th>2073</th>\n",
       "      <td>6.774664e+14</td>\n",
       "      <td>5640082</td>\n",
       "      <td>F</td>\n",
       "      <td>2016-04-29T10:05:34Z</td>\n",
       "      <td>2016-04-29T00:00:00Z</td>\n",
       "      <td>7</td>\n",
       "      <td>SANTA MARTHA</td>\n",
       "      <td>0</td>\n",
       "      <td>0</td>\n",
       "      <td>0</td>\n",
       "      <td>0</td>\n",
       "      <td>0</td>\n",
       "      <td>0</td>\n",
       "      <td>No</td>\n",
       "    </tr>\n",
       "  </tbody>\n",
       "</table>\n",
       "</div>"
      ],
      "text/plain": [
       "          PatientId  AppointmentID Gender          ScheduledDay  \\\n",
       "16129  4.123936e+10        5613161      M  2016-04-25T09:05:05Z   \n",
       "22608  1.645314e+11        5660999      F  2016-05-05T07:07:38Z   \n",
       "86012  9.217122e+12        5549320      F  2016-04-06T09:44:32Z   \n",
       "93793  5.643396e+13        5609524      M  2016-04-20T16:04:44Z   \n",
       "23380  2.883386e+12        5694389      F  2016-05-13T08:36:15Z   \n",
       "70970  6.473953e+12        5465626      F  2016-03-14T14:29:27Z   \n",
       "67521  2.719317e+13        5677557      M  2016-05-10T07:22:07Z   \n",
       "35762  5.769652e+12        5620433      F  2016-04-26T09:02:26Z   \n",
       "63847  2.515116e+12        5670382      M  2016-05-06T13:42:25Z   \n",
       "2073   6.774664e+14        5640082      F  2016-04-29T10:05:34Z   \n",
       "\n",
       "             AppointmentDay  Age   Neighbourhood  Scholarship  Hipertension  \\\n",
       "16129  2016-05-10T00:00:00Z   25    PRAIA DO SUÁ            0             0   \n",
       "22608  2016-05-16T00:00:00Z   59      CONSOLAÇÃO            0             0   \n",
       "86012  2016-06-03T00:00:00Z    1  JARDIM CAMBURI            0             0   \n",
       "93793  2016-06-01T00:00:00Z   47         MARUÍPE            0             0   \n",
       "23380  2016-05-13T00:00:00Z   76      CONSOLAÇÃO            0             1   \n",
       "70970  2016-05-30T00:00:00Z   42       SÃO PEDRO            1             0   \n",
       "67521  2016-05-10T00:00:00Z    7    SANTA MARTHA            0             0   \n",
       "35762  2016-05-04T00:00:00Z   53        DA PENHA            0             1   \n",
       "63847  2016-05-09T00:00:00Z   10      CONSOLAÇÃO            0             0   \n",
       "2073   2016-04-29T00:00:00Z    7    SANTA MARTHA            0             0   \n",
       "\n",
       "       Diabetes  Alcoholism  Handcap  SMS_received No-show  \n",
       "16129         0           0        0             1     Yes  \n",
       "22608         0           0        0             0      No  \n",
       "86012         0           0        0             1      No  \n",
       "93793         0           0        0             1      No  \n",
       "23380         0           0        0             0      No  \n",
       "70970         0           0        0             1      No  \n",
       "67521         0           0        0             0      No  \n",
       "35762         1           0        0             1      No  \n",
       "63847         0           0        0             0      No  \n",
       "2073          0           0        0             0      No  "
      ]
     },
     "execution_count": 13,
     "metadata": {},
     "output_type": "execute_result"
    }
   ],
   "source": [
    "df.sample(10)"
   ]
  },
  {
   "cell_type": "markdown",
   "id": "d993630c",
   "metadata": {},
   "source": [
    "#### there is age = 0 !! (This is outliers) must be removed"
   ]
  },
  {
   "cell_type": "code",
   "execution_count": 14,
   "id": "677facec",
   "metadata": {},
   "outputs": [
    {
     "data": {
      "text/html": [
       "<div>\n",
       "<style scoped>\n",
       "    .dataframe tbody tr th:only-of-type {\n",
       "        vertical-align: middle;\n",
       "    }\n",
       "\n",
       "    .dataframe tbody tr th {\n",
       "        vertical-align: top;\n",
       "    }\n",
       "\n",
       "    .dataframe thead th {\n",
       "        text-align: right;\n",
       "    }\n",
       "</style>\n",
       "<table border=\"1\" class=\"dataframe\">\n",
       "  <thead>\n",
       "    <tr style=\"text-align: right;\">\n",
       "      <th></th>\n",
       "      <th>PatientId</th>\n",
       "      <th>AppointmentID</th>\n",
       "      <th>Age</th>\n",
       "      <th>Scholarship</th>\n",
       "      <th>Hipertension</th>\n",
       "      <th>Diabetes</th>\n",
       "      <th>Alcoholism</th>\n",
       "      <th>Handcap</th>\n",
       "      <th>SMS_received</th>\n",
       "    </tr>\n",
       "  </thead>\n",
       "  <tbody>\n",
       "    <tr>\n",
       "      <th>count</th>\n",
       "      <td>1.105270e+05</td>\n",
       "      <td>1.105270e+05</td>\n",
       "      <td>110527.000000</td>\n",
       "      <td>110527.000000</td>\n",
       "      <td>110527.000000</td>\n",
       "      <td>110527.000000</td>\n",
       "      <td>110527.000000</td>\n",
       "      <td>110527.000000</td>\n",
       "      <td>110527.000000</td>\n",
       "    </tr>\n",
       "    <tr>\n",
       "      <th>mean</th>\n",
       "      <td>1.474963e+14</td>\n",
       "      <td>5.675305e+06</td>\n",
       "      <td>37.088874</td>\n",
       "      <td>0.098266</td>\n",
       "      <td>0.197246</td>\n",
       "      <td>0.071865</td>\n",
       "      <td>0.030400</td>\n",
       "      <td>0.022248</td>\n",
       "      <td>0.321026</td>\n",
       "    </tr>\n",
       "    <tr>\n",
       "      <th>std</th>\n",
       "      <td>2.560949e+14</td>\n",
       "      <td>7.129575e+04</td>\n",
       "      <td>23.110205</td>\n",
       "      <td>0.297675</td>\n",
       "      <td>0.397921</td>\n",
       "      <td>0.258265</td>\n",
       "      <td>0.171686</td>\n",
       "      <td>0.161543</td>\n",
       "      <td>0.466873</td>\n",
       "    </tr>\n",
       "    <tr>\n",
       "      <th>min</th>\n",
       "      <td>3.921784e+04</td>\n",
       "      <td>5.030230e+06</td>\n",
       "      <td>-1.000000</td>\n",
       "      <td>0.000000</td>\n",
       "      <td>0.000000</td>\n",
       "      <td>0.000000</td>\n",
       "      <td>0.000000</td>\n",
       "      <td>0.000000</td>\n",
       "      <td>0.000000</td>\n",
       "    </tr>\n",
       "    <tr>\n",
       "      <th>25%</th>\n",
       "      <td>4.172614e+12</td>\n",
       "      <td>5.640286e+06</td>\n",
       "      <td>18.000000</td>\n",
       "      <td>0.000000</td>\n",
       "      <td>0.000000</td>\n",
       "      <td>0.000000</td>\n",
       "      <td>0.000000</td>\n",
       "      <td>0.000000</td>\n",
       "      <td>0.000000</td>\n",
       "    </tr>\n",
       "    <tr>\n",
       "      <th>50%</th>\n",
       "      <td>3.173184e+13</td>\n",
       "      <td>5.680573e+06</td>\n",
       "      <td>37.000000</td>\n",
       "      <td>0.000000</td>\n",
       "      <td>0.000000</td>\n",
       "      <td>0.000000</td>\n",
       "      <td>0.000000</td>\n",
       "      <td>0.000000</td>\n",
       "      <td>0.000000</td>\n",
       "    </tr>\n",
       "    <tr>\n",
       "      <th>75%</th>\n",
       "      <td>9.439172e+13</td>\n",
       "      <td>5.725524e+06</td>\n",
       "      <td>55.000000</td>\n",
       "      <td>0.000000</td>\n",
       "      <td>0.000000</td>\n",
       "      <td>0.000000</td>\n",
       "      <td>0.000000</td>\n",
       "      <td>0.000000</td>\n",
       "      <td>1.000000</td>\n",
       "    </tr>\n",
       "    <tr>\n",
       "      <th>max</th>\n",
       "      <td>9.999816e+14</td>\n",
       "      <td>5.790484e+06</td>\n",
       "      <td>115.000000</td>\n",
       "      <td>1.000000</td>\n",
       "      <td>1.000000</td>\n",
       "      <td>1.000000</td>\n",
       "      <td>1.000000</td>\n",
       "      <td>4.000000</td>\n",
       "      <td>1.000000</td>\n",
       "    </tr>\n",
       "  </tbody>\n",
       "</table>\n",
       "</div>"
      ],
      "text/plain": [
       "          PatientId  AppointmentID            Age    Scholarship  \\\n",
       "count  1.105270e+05   1.105270e+05  110527.000000  110527.000000   \n",
       "mean   1.474963e+14   5.675305e+06      37.088874       0.098266   \n",
       "std    2.560949e+14   7.129575e+04      23.110205       0.297675   \n",
       "min    3.921784e+04   5.030230e+06      -1.000000       0.000000   \n",
       "25%    4.172614e+12   5.640286e+06      18.000000       0.000000   \n",
       "50%    3.173184e+13   5.680573e+06      37.000000       0.000000   \n",
       "75%    9.439172e+13   5.725524e+06      55.000000       0.000000   \n",
       "max    9.999816e+14   5.790484e+06     115.000000       1.000000   \n",
       "\n",
       "        Hipertension       Diabetes     Alcoholism        Handcap  \\\n",
       "count  110527.000000  110527.000000  110527.000000  110527.000000   \n",
       "mean        0.197246       0.071865       0.030400       0.022248   \n",
       "std         0.397921       0.258265       0.171686       0.161543   \n",
       "min         0.000000       0.000000       0.000000       0.000000   \n",
       "25%         0.000000       0.000000       0.000000       0.000000   \n",
       "50%         0.000000       0.000000       0.000000       0.000000   \n",
       "75%         0.000000       0.000000       0.000000       0.000000   \n",
       "max         1.000000       1.000000       1.000000       4.000000   \n",
       "\n",
       "        SMS_received  \n",
       "count  110527.000000  \n",
       "mean        0.321026  \n",
       "std         0.466873  \n",
       "min         0.000000  \n",
       "25%         0.000000  \n",
       "50%         0.000000  \n",
       "75%         1.000000  \n",
       "max         1.000000  "
      ]
     },
     "execution_count": 14,
     "metadata": {},
     "output_type": "execute_result"
    }
   ],
   "source": [
    "#get statistical data about each column\n",
    "df.describe()"
   ]
  },
  {
   "cell_type": "markdown",
   "id": "1f645984",
   "metadata": {},
   "source": [
    "- Age has a one or more negative value which makes no sense, so it need to be removed."
   ]
  },
  {
   "cell_type": "code",
   "execution_count": 19,
   "id": "04dff4f9",
   "metadata": {
    "scrolled": true
   },
   "outputs": [
    {
     "data": {
      "image/png": "[encoded data removed]",
      "text/plain": [
       "<Figure size 1080x1080 with 9 Axes>"
      ]
     },
     "metadata": {
      "needs_background": "light"
     },
     "output_type": "display_data"
    }
   ],
   "source": [
    "df.hist(figsize=(15,15));\n",
    "plt.tight_layout()"
   ]
  },
  {
   "cell_type": "markdown",
   "id": "8fe5d10a",
   "metadata": {},
   "source": [
    "- Age include more young patients\n",
    "- A small percentage of patients suffer from diabetes, high blood pressure , alcohol addiction and Handcap\n",
    "- SMS have been sent to more than 30% of cases"
   ]
  },
  {
   "cell_type": "markdown",
   "id": "f9079084",
   "metadata": {},
   "source": [
    "### Data Cleaning"
   ]
  },
  {
   "cell_type": "markdown",
   "id": "0e70f718",
   "metadata": {},
   "source": [
    "- Edit the \"No-show\" Column to be in Positive form instead of Negativity"
   ]
  },
  {
   "cell_type": "markdown",
   "id": "9f9e2b28",
   "metadata": {},
   "source": [
    "- 0 will mean that patient didn't come to his appointement.\n",
    "- 1 will mean that patient came to his appointment."
   ]
  },
  {
   "cell_type": "markdown",
   "id": "e8b373d3",
   "metadata": {},
   "source": [
    "- Rename the column No_show into Show_up"
   ]
  },
  {
   "cell_type": "code",
   "execution_count": 29,
   "id": "58e660d9",
   "metadata": {},
   "outputs": [],
   "source": [
    "df['No-show'].replace({'Yes':0 , 'No':1} , inplace = True)"
   ]
  },
  {
   "cell_type": "code",
   "execution_count": 31,
   "id": "f5a4764a",
   "metadata": {},
   "outputs": [],
   "source": [
    "df.rename(columns = {'No-show' : 'Show_up'} , inplace = True)"
   ]
  },
  {
   "cell_type": "code",
   "execution_count": 34,
   "id": "9b40e433",
   "metadata": {},
   "outputs": [
    {
     "data": {
      "text/plain": [
       "dtype('int64')"
      ]
     },
     "execution_count": 34,
     "metadata": {},
     "output_type": "execute_result"
    }
   ],
   "source": [
    "df.Show_up.dtypes"
   ]
  },
  {
   "cell_type": "markdown",
   "id": "ca776f24",
   "metadata": {},
   "source": [
    "\n",
    "- Edit the \"ScheduledDay\", and \"AppointmentDay\" Columns' Datatype to be Datetime"
   ]
  },
  {
   "cell_type": "code",
   "execution_count": 37,
   "id": "c05c5a43",
   "metadata": {},
   "outputs": [],
   "source": [
    "df['ScheduledDay']   = pd.to_datetime(df['ScheduledDay'])"
   ]
  },
  {
   "cell_type": "code",
   "execution_count": 38,
   "id": "ec5134f1",
   "metadata": {},
   "outputs": [],
   "source": [
    "df['AppointmentDay'] = pd.to_datetime(df['AppointmentDay'])"
   ]
  },
  {
   "cell_type": "markdown",
   "id": "132593e9",
   "metadata": {},
   "source": [
    "- Edit the \"PatientId\", \"AppointmentID\" Columns' Datatype to be String"
   ]
  },
  {
   "cell_type": "code",
   "execution_count": 51,
   "id": "c6505bca",
   "metadata": {},
   "outputs": [
    {
     "data": {
      "text/plain": [
       "dtype('O')"
      ]
     },
     "execution_count": 51,
     "metadata": {},
     "output_type": "execute_result"
    }
   ],
   "source": [
    "df['PatientId'].dtypes"
   ]
  },
  {
   "cell_type": "code",
   "execution_count": 50,
   "id": "5ae59dcf",
   "metadata": {},
   "outputs": [
    {
     "data": {
      "text/plain": [
       "dtype('O')"
      ]
     },
     "execution_count": 50,
     "metadata": {},
     "output_type": "execute_result"
    }
   ],
   "source": [
    "df['AppointmentID'].dtypes"
   ]
  },
  {
   "cell_type": "code",
   "execution_count": 126,
   "id": "38623a33",
   "metadata": {},
   "outputs": [],
   "source": [
    "df['AppointmentID'] = df['AppointmentID'].apply('str')\n",
    "#df['AppointmentID'].astype('object')"
   ]
  },
  {
   "cell_type": "code",
   "execution_count": 127,
   "id": "5b5c4dda",
   "metadata": {},
   "outputs": [],
   "source": [
    "df['PatientId'] = df['PatientId'].apply('str')\n",
    "#df['PatientId'].astype('object')"
   ]
  },
  {
   "cell_type": "markdown",
   "id": "0ceecf80",
   "metadata": {},
   "source": [
    "- Remove Row(s) with Negative Age Value(s):"
   ]
  },
  {
   "cell_type": "code",
   "execution_count": 83,
   "id": "068931e4",
   "metadata": {},
   "outputs": [
    {
     "data": {
      "text/plain": [
       "1"
      ]
     },
     "execution_count": 83,
     "metadata": {},
     "output_type": "execute_result"
    }
   ],
   "source": [
    "sum(df['Age'] < 0)"
   ]
  },
  {
   "cell_type": "code",
   "execution_count": 84,
   "id": "963af3ce",
   "metadata": {
    "scrolled": true
   },
   "outputs": [
    {
     "data": {
      "text/plain": [
       "1"
      ]
     },
     "execution_count": 84,
     "metadata": {},
     "output_type": "execute_result"
    }
   ],
   "source": [
    "sum(df[\"Age\"]<0) "
   ]
  },
  {
   "cell_type": "markdown",
   "id": "82f8dab4",
   "metadata": {},
   "source": [
    "- Let's convert them into nan then drop them"
   ]
  },
  {
   "cell_type": "code",
   "execution_count": 71,
   "id": "b701c50d",
   "metadata": {},
   "outputs": [],
   "source": [
    "df['Age'] = df['Age'].replace(0,np.nan)"
   ]
  },
  {
   "cell_type": "markdown",
   "id": "8d90e7e6",
   "metadata": {},
   "source": [
    "##### Test"
   ]
  },
  {
   "cell_type": "code",
   "execution_count": 87,
   "id": "453e1318",
   "metadata": {},
   "outputs": [
    {
     "data": {
      "text/plain": [
       "0"
      ]
     },
     "execution_count": 87,
     "metadata": {},
     "output_type": "execute_result"
    }
   ],
   "source": [
    "sum(df[\"Age\"] == 0) "
   ]
  },
  {
   "cell_type": "code",
   "execution_count": 75,
   "id": "5d28fa95",
   "metadata": {},
   "outputs": [],
   "source": [
    "df['Age'].dropna(inplace = True)"
   ]
  },
  {
   "cell_type": "code",
   "execution_count": 77,
   "id": "d6704155",
   "metadata": {},
   "outputs": [
    {
     "data": {
      "text/plain": [
       "PatientId            0\n",
       "AppointmentID        0\n",
       "Gender               0\n",
       "ScheduledDay         0\n",
       "AppointmentDay       0\n",
       "Age               3539\n",
       "Neighbourhood        0\n",
       "Scholarship          0\n",
       "Hipertension         0\n",
       "Diabetes             0\n",
       "Alcoholism           0\n",
       "Handcap              0\n",
       "SMS_received         0\n",
       "Show_up              0\n",
       "dtype: int64"
      ]
     },
     "execution_count": 77,
     "metadata": {},
     "output_type": "execute_result"
    }
   ],
   "source": [
    "df.isnull().sum()"
   ]
  },
  {
   "cell_type": "code",
   "execution_count": 80,
   "id": "1e61fb94",
   "metadata": {},
   "outputs": [],
   "source": [
    "df.dropna(subset = ['Age'] , inplace = True)"
   ]
  },
  {
   "cell_type": "code",
   "execution_count": 89,
   "id": "2ae189e5",
   "metadata": {},
   "outputs": [
    {
     "data": {
      "text/html": [
       "<div>\n",
       "<style scoped>\n",
       "    .dataframe tbody tr th:only-of-type {\n",
       "        vertical-align: middle;\n",
       "    }\n",
       "\n",
       "    .dataframe tbody tr th {\n",
       "        vertical-align: top;\n",
       "    }\n",
       "\n",
       "    .dataframe thead th {\n",
       "        text-align: right;\n",
       "    }\n",
       "</style>\n",
       "<table border=\"1\" class=\"dataframe\">\n",
       "  <thead>\n",
       "    <tr style=\"text-align: right;\">\n",
       "      <th></th>\n",
       "      <th>PatientId</th>\n",
       "      <th>AppointmentID</th>\n",
       "      <th>Gender</th>\n",
       "      <th>ScheduledDay</th>\n",
       "      <th>AppointmentDay</th>\n",
       "      <th>Age</th>\n",
       "      <th>Neighbourhood</th>\n",
       "      <th>Scholarship</th>\n",
       "      <th>Hipertension</th>\n",
       "      <th>Diabetes</th>\n",
       "      <th>Alcoholism</th>\n",
       "      <th>Handcap</th>\n",
       "      <th>SMS_received</th>\n",
       "      <th>Show_up</th>\n",
       "    </tr>\n",
       "  </thead>\n",
       "  <tbody>\n",
       "  </tbody>\n",
       "</table>\n",
       "</div>"
      ],
      "text/plain": [
       "Empty DataFrame\n",
       "Columns: [PatientId, AppointmentID, Gender, ScheduledDay, AppointmentDay, Age, Neighbourhood, Scholarship, Hipertension, Diabetes, Alcoholism, Handcap, SMS_received, Show_up]\n",
       "Index: []"
      ]
     },
     "execution_count": 89,
     "metadata": {},
     "output_type": "execute_result"
    }
   ],
   "source": [
    "df[df['Age'] < 0]"
   ]
  },
  {
   "cell_type": "code",
   "execution_count": null,
   "id": "d1c8f4f3",
   "metadata": {},
   "outputs": [],
   "source": [
    "df.drop([99832],inplace = True)"
   ]
  },
  {
   "cell_type": "markdown",
   "id": "53db9992",
   "metadata": {},
   "source": [
    "## Exploratory Data Analysis"
   ]
  },
  {
   "cell_type": "markdown",
   "id": "950327dc",
   "metadata": {},
   "source": [
    "- (What is the percentage of patients who show up on their appointements vs. who don't?)"
   ]
  },
  {
   "cell_type": "code",
   "execution_count": 106,
   "id": "4927a511",
   "metadata": {},
   "outputs": [
    {
     "data": {
      "text/plain": [
       "Show_up\n",
       "0    21680\n",
       "1    85307\n",
       "Name: PatientId, dtype: int64"
      ]
     },
     "execution_count": 106,
     "metadata": {},
     "output_type": "execute_result"
    }
   ],
   "source": [
    "df.groupby('Show_up').count()[\"PatientId\"]"
   ]
  },
  {
   "cell_type": "code",
   "execution_count": 108,
   "id": "710efc6c",
   "metadata": {},
   "outputs": [
    {
     "data": {
      "image/png": "[encoded data removed]",
      "text/plain": [
       "<Figure size 432x288 with 1 Axes>"
      ]
     },
     "metadata": {
      "needs_background": "light"
     },
     "output_type": "display_data"
    }
   ],
   "source": [
    "df.groupby('Show_up').count()[\"PatientId\"].plot(kind = 'bar');"
   ]
  },
  {
   "cell_type": "code",
   "execution_count": 104,
   "id": "4141efdd",
   "metadata": {},
   "outputs": [],
   "source": [
    "show_yes = df[df['Show_up'] == 1].count()['PatientId']\n",
    "show_no  = df[df['Show_up'] == 0].count()['PatientId']"
   ]
  },
  {
   "cell_type": "code",
   "execution_count": 105,
   "id": "cb796460",
   "metadata": {},
   "outputs": [
    {
     "data": {
      "image/png": "[encoded data removed]",
      "text/plain": [
       "<Figure size 432x288 with 1 Axes>"
      ]
     },
     "metadata": {},
     "output_type": "display_data"
    }
   ],
   "source": [
    "label_Names = [\"Showed up\", \"Didn't Show up\"]\n",
    "data = [show_yes, show_no]\n",
    "\n",
    "\n",
    "explode = (0, 0.15) #only explode the didn't show up slice.\n",
    "plt.axis('equal'); #to keep aspect ratio equal to appear as a fine circle.\n",
    "plt.pie(data,radius=1.5,shadow=True ,labels = label_Names,explode=explode, startangle=180,autopct='%0.2f%%',textprops = {\"fontsize\":15})\n",
    "plt.title(\"Percentage of patients who showed up and who didn't\",y=1.2);\n",
    "#autopct to show percentage, 0.2 for two decimal place"
   ]
  },
  {
   "cell_type": "markdown",
   "id": "3c8f8d80",
   "metadata": {},
   "source": [
    "-  (Do certain gender has more commitment to medical schedules than the other one?)"
   ]
  },
  {
   "cell_type": "code",
   "execution_count": 116,
   "id": "fdd9c4f0",
   "metadata": {},
   "outputs": [],
   "source": [
    "#df.groupby('Gender').count()\n",
    "Female = df[df['Gender'] == 'F'].count()['PatientId']\n",
    "Male   = df[df['Gender'] == 'M'].count()['PatientId']"
   ]
  },
  {
   "cell_type": "code",
   "execution_count": 121,
   "id": "866b6015",
   "metadata": {},
   "outputs": [
    {
     "name": "stdout",
     "output_type": "stream",
     "text": [
      "The Female number is : 70118And the Male number is: 36869\n"
     ]
    }
   ],
   "source": [
    "print(\"The Female number is : \" + str(Female) + \"And the Male number is: \"+str(Male))"
   ]
  },
  {
   "cell_type": "code",
   "execution_count": 122,
   "id": "57435de2",
   "metadata": {},
   "outputs": [
    {
     "data": {
      "image/png": "[encoded data removed]",
      "text/plain": [
       "<Figure size 432x288 with 1 Axes>"
      ]
     },
     "metadata": {},
     "output_type": "display_data"
    }
   ],
   "source": [
    "label_Names = [\"Female\", \"Male\"]\n",
    "data = [Female, Male]\n",
    "\n",
    "\n",
    "explode = (0, 0.15) #only explode the didn't show up slice.\n",
    "plt.axis('equal'); #to keep aspect ratio equal to appear as a fine circle.\n",
    "plt.pie(data,radius=1.5,shadow=True ,labels = label_Names,explode=explode, startangle=180,autopct='%0.2f%%',textprops = {\"fontsize\":15})\n",
    "plt.title(\"Percentage of patients who showed up and who didn't\",y=1.2);\n",
    "#autopct to show percentage, 0.2 for two decimal place"
   ]
  },
  {
   "cell_type": "markdown",
   "id": "68832722",
   "metadata": {},
   "source": [
    "-  (Is the duration between registeration and appointment affect the ability to show up ?)"
   ]
  },
  {
   "cell_type": "code",
   "execution_count": 123,
   "id": "a3d4b74a",
   "metadata": {},
   "outputs": [],
   "source": [
    "df['Duration'] = (df['AppointmentDay'].dt.date) - (df['ScheduledDay'].dt.date)"
   ]
  },
  {
   "cell_type": "code",
   "execution_count": 134,
   "id": "d6d91ea4",
   "metadata": {},
   "outputs": [],
   "source": [
    "df[\"Duration\"] = df[\"Duration\"].dt.days"
   ]
  },
  {
   "cell_type": "code",
   "execution_count": 135,
   "id": "68e82b79",
   "metadata": {},
   "outputs": [
    {
     "data": {
      "text/plain": [
       "Show_up\n",
       "0    15.789299\n",
       "1     8.737794\n",
       "Name: Duration, dtype: float64"
      ]
     },
     "execution_count": 135,
     "metadata": {},
     "output_type": "execute_result"
    }
   ],
   "source": [
    "df.groupby('Show_up').mean()['Duration']"
   ]
  },
  {
   "cell_type": "markdown",
   "id": "2efe04b2",
   "metadata": {},
   "source": [
    "- Patients Who didn't show up have an average of 15 days between registeration day and their appointments.\n",
    "\n",
    "- Patients Who show up have an average of 8 days between registeration day and their appointments.\n",
    "\n",
    "- As Duration increases, the ability of patients to show up on their appointments decreases.\n",
    "\n"
   ]
  },
  {
   "cell_type": "markdown",
   "id": "45e98fbe",
   "metadata": {},
   "source": [
    "- Do patients who recieves SMS to remind them of the appointement more likely to show up?"
   ]
  },
  {
   "cell_type": "code",
   "execution_count": 146,
   "id": "925a0e36",
   "metadata": {},
   "outputs": [],
   "source": [
    "df_SMS    = df[df[\"SMS_received\"] == 1][\"Show_up\"].mean()"
   ]
  },
  {
   "cell_type": "code",
   "execution_count": 147,
   "id": "d2e866d2",
   "metadata": {},
   "outputs": [],
   "source": [
    "df_No_SMS = df[df[\"SMS_received\"] == 0][\"Show_up\"].mean()"
   ]
  },
  {
   "cell_type": "code",
   "execution_count": 150,
   "id": "24229d19",
   "metadata": {},
   "outputs": [
    {
     "data": {
      "image/png": "[encoded data removed]",
      "text/plain": [
       "<Figure size 432x288 with 1 Axes>"
      ]
     },
     "metadata": {},
     "output_type": "display_data"
    }
   ],
   "source": [
    "label_Names = [\"SMS\", \"NO_SMS\"]\n",
    "data = [df_SMS, df_No_SMS]\n",
    "\n",
    "\n",
    "explode = (0, 0.15) #only explode the didn't show up slice.\n",
    "plt.axis('equal'); #to keep aspect ratio equal to appear as a fine circle.\n",
    "plt.pie(data,radius=1.5,shadow=True ,labels = label_Names,explode=explode, startangle=180,autopct='%0.2f%%',textprops = {\"fontsize\":15});\n"
   ]
  },
  {
   "cell_type": "markdown",
   "id": "d6da1ba9",
   "metadata": {},
   "source": [
    "- What is percentage of patients who diagnosed with Diabetes, Hipertension, Alcoholism, and Handcap?"
   ]
  },
  {
   "cell_type": "code",
   "execution_count": 151,
   "id": "89427946",
   "metadata": {},
   "outputs": [],
   "source": [
    "all_count = 110526 #number of data records"
   ]
  },
  {
   "cell_type": "code",
   "execution_count": 156,
   "id": "1bf13b30",
   "metadata": {},
   "outputs": [],
   "source": [
    "diabets_count = df[df[\"Diabetes\"]==1][\"PatientId\"].count()"
   ]
  },
  {
   "cell_type": "code",
   "execution_count": 161,
   "id": "57129b51",
   "metadata": {},
   "outputs": [],
   "source": [
    "#percentage of people diagnosed with Diabetes\n",
    "diabetes_percent = round(diabets_count *100 / all_count , 2)"
   ]
  },
  {
   "cell_type": "code",
   "execution_count": 162,
   "id": "de0da9cb",
   "metadata": {},
   "outputs": [
    {
     "data": {
      "text/plain": [
       "7.19"
      ]
     },
     "execution_count": 162,
     "metadata": {},
     "output_type": "execute_result"
    }
   ],
   "source": [
    "diabetes_percent"
   ]
  },
  {
   "cell_type": "code",
   "execution_count": 163,
   "id": "f9af0889",
   "metadata": {},
   "outputs": [
    {
     "name": "stdout",
     "output_type": "stream",
     "text": [
      "Percentage of patients who diagnosed with Diabetes is 7.19%.\n"
     ]
    }
   ],
   "source": [
    "print(\"Percentage of patients who diagnosed with Diabetes is {}%.\".format(diabetes_percent))"
   ]
  },
  {
   "cell_type": "code",
   "execution_count": 164,
   "id": "45e24f09",
   "metadata": {},
   "outputs": [
    {
     "name": "stdout",
     "output_type": "stream",
     "text": [
      "Percentage of patients who diagnosed with Hipertension is 19.72%.\n"
     ]
    }
   ],
   "source": [
    "#percentage of people diagnosed with Diabetes\n",
    "diabets_count = df[df[\"Hipertension\"]==1][\"PatientId\"].count()\n",
    "diabetes_percent = round(diabets_count*100/all_count,2)\n",
    "print(\"Percentage of patients who diagnosed with Hipertension is {}%.\".format(diabetes_percent))"
   ]
  },
  {
   "cell_type": "code",
   "execution_count": 165,
   "id": "347c2563",
   "metadata": {},
   "outputs": [
    {
     "name": "stdout",
     "output_type": "stream",
     "text": [
      "Percentage of patients who diagnosed with Alcoholism is 3.04%.\n"
     ]
    }
   ],
   "source": [
    "#percentage of people diagnosed with Diabetes\n",
    "diabets_count = df[df[\"Alcoholism\"]==1][\"PatientId\"].count()\n",
    "diabetes_percent = round(diabets_count*100/all_count,2)\n",
    "print(\"Percentage of patients who diagnosed with Alcoholism is {}%.\".format(diabetes_percent))"
   ]
  },
  {
   "cell_type": "code",
   "execution_count": 166,
   "id": "1c3f4622",
   "metadata": {},
   "outputs": [
    {
     "name": "stdout",
     "output_type": "stream",
     "text": [
      "Percentage of patients who diagnosed with Handcap is 1.85%.\n"
     ]
    }
   ],
   "source": [
    "#percentage of people diagnosed with Diabetes\n",
    "diabets_count = df[df[\"Handcap\"]==1][\"PatientId\"].count()\n",
    "diabetes_percent = round(diabets_count*100/all_count,2)\n",
    "print(\"Percentage of patients who diagnosed with Handcap is {}%.\".format(diabetes_percent))"
   ]
  },
  {
   "cell_type": "markdown",
   "id": "7f89ee21",
   "metadata": {},
   "source": [
    "- Is alcohol drinking may be a cause of missing out the appointements?"
   ]
  },
  {
   "cell_type": "code",
   "execution_count": 174,
   "id": "f7d3cc4f",
   "metadata": {},
   "outputs": [],
   "source": [
    "#count of patients with alchoholism who show up\n",
    "alcohol_show = df.loc[(df[\"Alcoholism\"]==1) & (df[\"Show_up\"]==1)][\"PatientId\"].count() "
   ]
  },
  {
   "cell_type": "code",
   "execution_count": 177,
   "id": "82f37af8",
   "metadata": {},
   "outputs": [],
   "source": [
    "#count of patients with alchoholism who don't show up\n",
    "alcohol_No_show = df.loc[(df[\"Alcoholism\"]==1) & (df[\"Show_up\"]==0)][\"PatientId\"].count() "
   ]
  },
  {
   "cell_type": "code",
   "execution_count": 178,
   "id": "9492ef4f",
   "metadata": {},
   "outputs": [],
   "source": [
    "alcohol_show_percent = round(alcohol_show*100 / all_count,2) \n",
    "alcohol_No_show_percent = round(alcohol_No_show*100 / all_count,2)"
   ]
  },
  {
   "cell_type": "code",
   "execution_count": 179,
   "id": "5ab14431",
   "metadata": {},
   "outputs": [
    {
     "name": "stdout",
     "output_type": "stream",
     "text": [
      "Percentage of show ups when patients have alchoholism is 2.43%, while not show ups is 0.61%.\n"
     ]
    }
   ],
   "source": [
    "print(\"Percentage of show ups when patients have alchoholism is {}%, while not show ups is {}%.\".format(alcohol_show_percent,alcohol_No_show_percent))"
   ]
  },
  {
   "cell_type": "code",
   "execution_count": null,
   "id": "32d1de56",
   "metadata": {},
   "outputs": [],
   "source": []
  }
 ],
 "metadata": {
  "kernelspec": {
   "display_name": "Python 3",
   "language": "python",
   "name": "python3"
  },
  "language_info": {
   "codemirror_mode": {
    "name": "ipython",
    "version": 3
   },
   "file_extension": ".py",
   "mimetype": "text/x-python",
   "name": "python",
   "nbconvert_exporter": "python",
   "pygments_lexer": "ipython3",
   "version": "3.8.8"
  }
 },
 "nbformat": 4,
 "nbformat_minor": 5
}
